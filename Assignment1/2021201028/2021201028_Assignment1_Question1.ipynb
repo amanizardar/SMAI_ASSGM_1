{
 "cells": [
  {
   "cell_type": "markdown",
   "id": "7b7992a1",
   "metadata": {},
   "source": [
    "# Image Recommendation System via Collaborative Filtering"
   ]
  },
  {
   "cell_type": "markdown",
   "id": "bdbd69cd",
   "metadata": {},
   "source": [
    "# ***Please read the instructions very carefully***"
   ]
  },
  {
   "cell_type": "markdown",
   "id": "17602772",
   "metadata": {},
   "source": [
    "1.   Assignment must be implemented in Python 3 only.\n",
    "2.   You are allowed to use libraries for data preprocessing (numpy, pandas, nltk etc) and for evaluation metrics, data visualization (matplotlib etc.).\n",
    "3.   You will be evaluated not just on the overall performance of the model and also on the experimentation with hyper parameters, data prepossessing techniques etc.\n",
    "4.   ⚠️ The Assignment will be evaluated automatically. Please adhere to taking proper inputs from `config.csv` file. You can change your `config.csv` file to experiment with your code. But at the end, make sure that your outputs are corresponding to input values in `config.csv`\n",
    "5.   Strict plagiarism checking will be done. An F will be awarded for plagiarism."
   ]
  },
  {
   "cell_type": "markdown",
   "id": "3c9abf04",
   "metadata": {},
   "source": [
    "## About the Dataset\n",
    "Behance is a community art website where users showcase and discover creative work. Each user is able to “appreciate” (equivalent to a “like” on Instagram or a “react” on Facebook) an image, indicating that they like the image. It is in the website’s best interests to show users pictures that they would like, to keep them engaged for longer. For this question, given a set of pictures that a user has already appreciated, you have to show them a new picture that they would like based on what similar users appreciated.\n",
    "\n",
    "\n",
    "<br><br>\n",
    "**The dataset has information of 1 million appreciates of 63,497 users on 178,788 items. The file Behance appreciate 1M has a triplet in each line in the form of (user id, item id, unix timestamp).**"
   ]
  },
  {
   "cell_type": "markdown",
   "id": "11f6eaf3",
   "metadata": {},
   "source": [
    "**Task: Take the inputs from the config.csv file and output the recommendations for a particular person**\n",
    "- Collaborative Filtering is a way to predict items to the user based on the the\n",
    "user’s history and the history of similar users. The similarity between users can be quantified by the number of images that both the users appreciated.\n",
    "- The images appreciated by a similar user would be the most suitable images to show a user. Since we can find the similarity between any two users, we would be able to find the “nearest” neighbours of any user, allowing us to use a KNN-based algorithm to recommend new images to a user.\n",
    "- Since people do not like seeing pictures that they have seen already. Make sure that you do not recommend pictures that a user has appreciated already.\n",
    "- Output the final response will be saved in the file named ```config['output_file']```.\n"
   ]
  },
  {
   "cell_type": "markdown",
   "id": "1c9a5e4f",
   "metadata": {},
   "source": [
    "**Output file format:**\n",
    "Populate the output file with images that the user has not seen of the k most\n",
    "similar users, in descending order of their similarity. Each line in the output\n",
    "file should be a duplet in the form of (item id, user id), where the user id is the\n",
    "id of the kth similar user. The order of the images corresponding to the same\n",
    "similar user would not matter. The output file would look something like this:\n",
    "```\n",
    "item_id_1_of_1st_similar_user 1st_most_similar_user_id\n",
    "item_id_2_of_1st_similar_user 1st_most_similar_user_id\n",
    "item_id_3_of_1st_similar_user 1st_most_similar_user_id\n",
    "...\n",
    "item_id_1_of_2nd_similar_user 2nd_most_similar_user_id\n",
    "item_id_2_of_2nd_similar_user 2nd_most_similar_user_id\n",
    "item_id_3_of_2nd_similar_user 2nd_most_similar_user_id\n",
    "...\n",
    "item_id_1_of_kth_similar_user kth_most_similar_user_id\n",
    "item_id_2_of_kth_similar_user kth_most_similar_user_id\n",
    "item_id_3_of_kth_similar_user kth_most_similar_user_id\n",
    "```"
   ]
  },
  {
   "cell_type": "markdown",
   "id": "c6d0c592",
   "metadata": {},
   "source": [
    "The dataset was extracted using Behance’s API as a part of the paper\n",
    "“Vista: A visually, socially, and temporally-aware model for artistic\n",
    "recommendation, RecSys, 2016”. Check out this [Google Drive folder](https://drive.google.com/drive/folders/0B9Ck8jw-TZUEc3NlMjVXdDlPU1k?resourcekey=0-6_8ykn0o4fLc5fuTEm91xA) for\n",
    "more information about the dataset.\n",
    "\n",
    "\n",
    "Have fun! The users are waiting to see new pictures!"
   ]
  },
  {
   "cell_type": "markdown",
   "id": "87b8072a",
   "metadata": {},
   "source": [
    "### Import necessary libraries"
   ]
  },
  {
   "cell_type": "code",
   "execution_count": 11,
   "id": "f153853d",
   "metadata": {},
   "outputs": [],
   "source": [
    "import numpy as np\n",
    "import pandas as pd\n",
    "from scipy.sparse import csr_matrix\n",
    "from numpy import array\n",
    "from scipy.linalg import svd\n",
    "from sklearn.decomposition import TruncatedSVD\n",
    "from numpy import dot\n",
    "from numpy.linalg import norm"
   ]
  },
  {
   "cell_type": "code",
   "execution_count": 12,
   "id": "41ac6337",
   "metadata": {},
   "outputs": [],
   "source": [
    "# Config Generation Sample Code.\n",
    "# ⚠️ Only for experimentation on your side.\n",
    "# ⚠️ Should be commented during submission.\n",
    "\n",
    "# df = pd.DataFrame(data=[{'id':276633,\n",
    "#                   'k':5,\n",
    "#                   'dataset_file':'./Behance_appreciate_1M',\n",
    "#                   'output_file':'./output.txt'}])\n",
    "# df.to_csv('config.csv')"
   ]
  },
  {
   "cell_type": "code",
   "execution_count": 13,
   "id": "7af3e999",
   "metadata": {},
   "outputs": [],
   "source": [
    "config = pd.read_csv('config.csv').iloc[0]"
   ]
  },
  {
   "cell_type": "code",
   "execution_count": 14,
   "id": "829d0147",
   "metadata": {},
   "outputs": [],
   "source": [
    "config"
   ]
  },
  {
   "cell_type": "code",
   "execution_count": 15,
   "id": "f4d09c27",
   "metadata": {},
   "outputs": [],
   "source": [
    "user = config['id']\n",
    "k_value = config['k']"
   ]
  },
  {
   "cell_type": "markdown",
   "id": "10935090",
   "metadata": {},
   "source": [
    "### Read the Data"
   ]
  },
  {
   "cell_type": "code",
   "execution_count": 16,
   "id": "5bbba85a",
   "metadata": {},
   "outputs": [],
   "source": [
    "with open(config['dataset_file'], 'r') as inFile:\n",
    "    appreciate_data = inFile.readlines()"
   ]
  },
  {
   "cell_type": "markdown",
   "id": "99512e25",
   "metadata": {},
   "source": [
    "### Initialize a dictionary to store the item_ids that a user likes\n",
    "\n",
    "### Go through each line of the input file and construct the user_likes dictionary"
   ]
  },
  {
   "cell_type": "code",
   "execution_count": 17,
   "id": "1d3d9be5",
   "metadata": {},
   "outputs": [],
   "source": [
    "user_likes = dict()\n",
    "users={}\n",
    "items={}\n",
    "u_ind=0\n",
    "i_ind=0\n",
    "user_row=[]\n",
    "item_col=[]\n",
    "matrix_val=[]\n",
    "knn=[]"
   ]
  },
  {
   "cell_type": "code",
   "execution_count": 18,
   "id": "80a539f1",
   "metadata": {},
   "outputs": [],
   "source": [
    "for line in appreciate_data:\n",
    "    line = line.strip()\n",
    "    \n",
    "    user_id = int(line.split()[0])\n",
    "    item_id = int(line.split()[1])\n",
    "\n",
    "    if(user_id not in users):\n",
    "        users[user_id]=u_ind\n",
    "        u_ind+=1\n",
    "\n",
    "    if(item_id not in items):\n",
    "        items[item_id]=i_ind\n",
    "        i_ind+=1\n",
    "    \n",
    "    user_row.append(users[user_id])\n",
    "    item_col.append(items[item_id])\n",
    "    matrix_val.append(1)\n",
    "    \n",
    "\n",
    "    if user_id not in user_likes:\n",
    "        user_likes[user_id] = list()\n",
    "    \n",
    "    user_likes[user_id].append(item_id)"
   ]
  },
  {
   "cell_type": "code",
   "execution_count": 19,
   "id": "b947fcb3",
   "metadata": {},
   "outputs": [],
   "source": [
    "# print(len(users))\n",
    "# print(len(items))\n",
    "\n",
    "# print(len(user_row))\n",
    "# print(len(item_col))\n",
    "# print(len(matrix_val))\n",
    "original_user_images=user_likes[user]\n",
    "user_row=np.array(user_row)\n",
    "item_col=np.array(item_col)\n",
    "matrix_val=np.array(matrix_val)\n",
    "\n",
    "csr = csr_matrix((matrix_val, (user_row, item_col)), shape=(len(users), len(items)))\n",
    "# print(csr)\n",
    "Singular_Value_Decomposition = TruncatedSVD(n_components=1000)\n",
    "\n",
    "my_matrix =Singular_Value_Decomposition.fit_transform(csr)\n",
    "\n",
    "\n",
    "\n",
    "\n",
    "\n"
   ]
  },
  {
   "cell_type": "code",
   "execution_count": null,
   "id": "9003407b",
   "metadata": {},
   "outputs": [],
   "source": [
    "# print(my_matrix)\n",
    "# print(my_matrix[0])\n",
    "# print(users[user])\n",
    "\n",
    "def cosine_distance(v1,v2):\n",
    "    # v1=np.array(v1)\n",
    "    # v2=np.array(v2)\n",
    "    result = 1-(dot(v1, v2)/(norm(v1)*norm(v2)))\n",
    "    return result\n",
    "\n",
    "distances={}\n",
    "user_index=users[user]\n",
    "for this_user in range(len(my_matrix)):\n",
    "    if(this_user!=user_index):\n",
    "        distances[this_user]=cosine_distance(my_matrix[this_user],my_matrix[user_index])\n",
    "\n",
    "sorted_distances = sorted(distances.items(),key=lambda x:x[1])\n",
    "sorted_distances=sorted_distances[:k_value]\n",
    "for item in sorted_distances:\n",
    "  knn.append(list(users.keys())[list(users.values()).index(item[0])])\n",
    "# print(knn)\n",
    "\n",
    "\n",
    "\n",
    "\n"
   ]
  },
  {
   "cell_type": "markdown",
   "id": "9e199965",
   "metadata": {},
   "source": [
    "### Use KNN after Collaborative Filtering to find nearest neighbors"
   ]
  },
  {
   "cell_type": "code",
   "execution_count": null,
   "id": "2117df52",
   "metadata": {},
   "outputs": [],
   "source": [
    "# your code here\n",
    "# your code here\n",
    "def neighbors(user,k_value):\n",
    "    \"\"\" returns an iterable object (like list or generator) \"\"\"\n",
    "    pass"
   ]
  },
  {
   "cell_type": "markdown",
   "id": "892c395b",
   "metadata": {},
   "source": [
    "### Open the output file to write all the lines to the file"
   ]
  },
  {
   "cell_type": "code",
   "execution_count": null,
   "id": "428708d5",
   "metadata": {},
   "outputs": [
    {
     "name": "stdout",
     "output_type": "stream",
     "text": [
      "userid is  1973004\n",
      "userid is  1494939\n",
      "userid is  1480429\n",
      "userid is  2452817\n",
      "userid is  2539765\n"
     ]
    }
   ],
   "source": [
    "outFile = open(config['output_file'], 'w')\n",
    "\n",
    "for n_user in knn:\n",
    "    # user_id = list(user_likes.keys())[n_user]\n",
    "    user_id=n_user\n",
    "    # print(\"userid is \",user_id)\n",
    "    for item_id in user_likes[user_id]:\n",
    "        if(item_id not in original_user_images):\n",
    "            outFile.write(str(item_id) + ' ' + str(user_id) + '\\n')\n",
    "\n",
    "outFile.close()"
   ]
  }
 ],
 "metadata": {
  "kernelspec": {
   "display_name": "Python 3",
   "language": "python",
   "name": "python3"
  },
  "language_info": {
   "codemirror_mode": {
    "name": "ipython",
    "version": 3
   },
   "file_extension": ".py",
   "mimetype": "text/x-python",
   "name": "python",
   "nbconvert_exporter": "python",
   "pygments_lexer": "ipython3",
   "version": "3.8.10"
  }
 },
 "nbformat": 4,
 "nbformat_minor": 5
}
